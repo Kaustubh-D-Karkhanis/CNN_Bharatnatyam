{
  "nbformat": 4,
  "nbformat_minor": 0,
  "metadata": {
    "colab": {
      "provenance": [],
      "mount_file_id": "1l-E4CKi3dtIuh4S28SF3oRm36L8G7tOO",
      "authorship_tag": "ABX9TyM+RzP3zbN7s4R569hnaTJx",
      "include_colab_link": true
    },
    "kernelspec": {
      "name": "python3",
      "display_name": "Python 3"
    },
    "language_info": {
      "name": "python"
    }
  },
  "cells": [
    {
      "cell_type": "markdown",
      "metadata": {
        "id": "view-in-github",
        "colab_type": "text"
      },
      "source": [
        "<a href=\"https://colab.research.google.com/github/Kaustubh-D-Karkhanis/CNN_Bharatnatyam/blob/main/Bharatnatyam.ipynb\" target=\"_parent\"><img src=\"https://colab.research.google.com/assets/colab-badge.svg\" alt=\"Open In Colab\"/></a>"
      ]
    },
    {
      "cell_type": "code",
      "execution_count": 1,
      "metadata": {
        "colab": {
          "base_uri": "https://localhost:8080/"
        },
        "id": "IML0Vd-ZORF6",
        "outputId": "b51c6efa-ce37-4d38-c59f-3ac971f27d6c"
      },
      "outputs": [
        {
          "output_type": "stream",
          "name": "stdout",
          "text": [
            "Found 1057 images belonging to 9 classes.\n",
            "Found 994 images belonging to 9 classes.\n",
            "Found 649 images belonging to 9 classes.\n"
          ]
        }
      ],
      "source": [
        "import tensorflow as tf\n",
        "from tensorflow.keras.preprocessing.image import ImageDataGenerator\n",
        "\n",
        "# Define data directories\n",
        "train_dir = '/content/drive/MyDrive/Custom_db2/train'\n",
        "test_dir = '/content/drive/MyDrive/Custom_db2/test'\n",
        "val_dir = '/content/drive/MyDrive/Custom_db2/val'\n",
        "\n",
        "# Image data generators\n",
        "train_datagen = ImageDataGenerator(\n",
        "    rescale=1./255,\n",
        "    rotation_range=20,\n",
        "    width_shift_range=0.2,\n",
        "    height_shift_range=0.2,\n",
        "    horizontal_flip=True,\n",
        "    fill_mode='nearest'\n",
        ")\n",
        "\n",
        "val_datagen = ImageDataGenerator(rescale=1./255)\n",
        "test_datagen = ImageDataGenerator(rescale=1./255)\n",
        "\n",
        "train_generator = train_datagen.flow_from_directory(\n",
        "    train_dir,\n",
        "    target_size=(150, 150),\n",
        "    batch_size=32,\n",
        "    class_mode='categorical'\n",
        ")\n",
        "\n",
        "val_generator = val_datagen.flow_from_directory(\n",
        "    val_dir,\n",
        "    target_size=(150, 150),\n",
        "    batch_size=32,\n",
        "    class_mode='categorical'\n",
        ")\n",
        "\n",
        "test_generator = test_datagen.flow_from_directory(\n",
        "    test_dir,\n",
        "    target_size=(150, 150),\n",
        "    batch_size=32,\n",
        "    class_mode='categorical'\n",
        ")\n"
      ]
    },
    {
      "cell_type": "code",
      "source": [
        "model = tf.keras.models.Sequential([\n",
        "    tf.keras.layers.Conv2D(32, (3, 3), activation='relu', input_shape=(150, 150, 3)),\n",
        "    tf.keras.layers.MaxPooling2D(2, 2),\n",
        "    tf.keras.layers.Conv2D(64, (3, 3), activation='relu'),\n",
        "    tf.keras.layers.MaxPooling2D(2, 2),\n",
        "    tf.keras.layers.Conv2D(128, (3, 3), activation='relu'),\n",
        "    tf.keras.layers.MaxPooling2D(2, 2),\n",
        "    tf.keras.layers.Flatten(),\n",
        "    tf.keras.layers.Dense(512, activation='relu'),\n",
        "    tf.keras.layers.Dense(9, activation='softmax')\n",
        "])\n",
        "\n",
        "\n",
        "model.compile(loss='categorical_crossentropy', optimizer='adam', metrics=['accuracy'])\n"
      ],
      "metadata": {
        "id": "Nozlo-cWPO6N"
      },
      "execution_count": null,
      "outputs": []
    },
    {
      "cell_type": "code",
      "source": [
        "history = model.fit(\n",
        "    train_generator,\n",
        "    epochs=7,\n",
        "    validation_data=val_generator\n",
        ")\n"
      ],
      "metadata": {
        "colab": {
          "base_uri": "https://localhost:8080/"
        },
        "id": "YHHiC7TIPTup",
        "outputId": "a4f3f3ba-6c0f-4091-c665-0a29b3e5045c"
      },
      "execution_count": null,
      "outputs": [
        {
          "output_type": "stream",
          "name": "stdout",
          "text": [
            "Epoch 1/7\n",
            "24/24 [==============================] - 64s 3s/step - loss: 1.8183 - accuracy: 0.3753 - val_loss: 3.0648 - val_accuracy: 0.4396\n",
            "Epoch 2/7\n",
            "24/24 [==============================] - 69s 3s/step - loss: 0.8477 - accuracy: 0.6942 - val_loss: 4.1619 - val_accuracy: 0.5573\n",
            "Epoch 3/7\n",
            "24/24 [==============================] - 69s 3s/step - loss: 0.6247 - accuracy: 0.7493 - val_loss: 5.0645 - val_accuracy: 0.6097\n",
            "Epoch 4/7\n",
            "24/24 [==============================] - 70s 3s/step - loss: 0.4061 - accuracy: 0.8517 - val_loss: 5.6193 - val_accuracy: 0.6579\n",
            "Epoch 5/7\n",
            "24/24 [==============================] - 72s 3s/step - loss: 0.2979 - accuracy: 0.8911 - val_loss: 5.7720 - val_accuracy: 0.6801\n",
            "Epoch 6/7\n",
            "24/24 [==============================] - 65s 3s/step - loss: 0.2535 - accuracy: 0.9081 - val_loss: 7.2710 - val_accuracy: 0.6911\n",
            "Epoch 7/7\n",
            "24/24 [==============================] - 70s 3s/step - loss: 0.2394 - accuracy: 0.9108 - val_loss: 6.9386 - val_accuracy: 0.7062\n"
          ]
        }
      ]
    },
    {
      "cell_type": "code",
      "source": [
        "test_loss, test_accuracy = model.evaluate(test_generator)\n",
        "print(\"Test accuracy: {:.2f}%\".format(test_accuracy * 100))\n"
      ],
      "metadata": {
        "id": "I0NudF0AUhub",
        "colab": {
          "base_uri": "https://localhost:8080/"
        },
        "outputId": "3f6a2a60-770a-408f-cf98-8f719f3ebc62"
      },
      "execution_count": null,
      "outputs": [
        {
          "output_type": "stream",
          "name": "stdout",
          "text": [
            "21/21 [==============================] - 12s 547ms/step - loss: 8.4751 - accuracy: 0.6055\n",
            "Test accuracy: 60.55%\n"
          ]
        }
      ]
    },
    {
      "cell_type": "code",
      "source": [
        "from tensorflow.keras.preprocessing import image\n",
        "import numpy as np\n",
        "import tensorflow as tf\n",
        "\n",
        "\n",
        "img_path = '/content/drive/MyDrive/Custom_db2/train/Muzhumandi Augmented/dr_0_7453.jpg'\n",
        "img = image.load_img(img_path, target_size=(150, 150))\n",
        "img_array = image.img_to_array(img)\n",
        "img_array = np.expand_dims(img_array, axis=0)\n",
        "img_array /= 255.0\n",
        "\n",
        "# Get model predictions\n",
        "predictions = model.predict(img_array)\n",
        "class_index = np.argmax(predictions)\n",
        "class_label = train_generator.class_indices\n",
        "\n",
        "class_index = np.argmax(predictions)\n",
        "class_label = list(train_generator.class_indices.keys())\n",
        "\n",
        "print(\"Predicted class:\", class_label[class_index])\n"
      ],
      "metadata": {
        "id": "kUfdyESVV7P_",
        "colab": {
          "base_uri": "https://localhost:8080/",
          "height": 245
        },
        "outputId": "5f52de81-3c40-496f-f501-ca268d3993cc"
      },
      "execution_count": null,
      "outputs": [
        {
          "output_type": "error",
          "ename": "NameError",
          "evalue": "ignored",
          "traceback": [
            "\u001b[0;31m---------------------------------------------------------------------------\u001b[0m",
            "\u001b[0;31mNameError\u001b[0m                                 Traceback (most recent call last)",
            "\u001b[0;32m<ipython-input-2-0f1019f31736>\u001b[0m in \u001b[0;36m<cell line: 13>\u001b[0;34m()\u001b[0m\n\u001b[1;32m     11\u001b[0m \u001b[0;34m\u001b[0m\u001b[0m\n\u001b[1;32m     12\u001b[0m \u001b[0;31m# Get model predictions\u001b[0m\u001b[0;34m\u001b[0m\u001b[0;34m\u001b[0m\u001b[0m\n\u001b[0;32m---> 13\u001b[0;31m \u001b[0mpredictions\u001b[0m \u001b[0;34m=\u001b[0m \u001b[0mmodel\u001b[0m\u001b[0;34m.\u001b[0m\u001b[0mpredict\u001b[0m\u001b[0;34m(\u001b[0m\u001b[0mimg_array\u001b[0m\u001b[0;34m)\u001b[0m\u001b[0;34m\u001b[0m\u001b[0;34m\u001b[0m\u001b[0m\n\u001b[0m\u001b[1;32m     14\u001b[0m \u001b[0mclass_index\u001b[0m \u001b[0;34m=\u001b[0m \u001b[0mnp\u001b[0m\u001b[0;34m.\u001b[0m\u001b[0margmax\u001b[0m\u001b[0;34m(\u001b[0m\u001b[0mpredictions\u001b[0m\u001b[0;34m)\u001b[0m\u001b[0;34m\u001b[0m\u001b[0;34m\u001b[0m\u001b[0m\n\u001b[1;32m     15\u001b[0m \u001b[0mclass_label\u001b[0m \u001b[0;34m=\u001b[0m \u001b[0mtrain_generator\u001b[0m\u001b[0;34m.\u001b[0m\u001b[0mclass_indices\u001b[0m\u001b[0;34m\u001b[0m\u001b[0;34m\u001b[0m\u001b[0m\n",
            "\u001b[0;31mNameError\u001b[0m: name 'model' is not defined"
          ]
        }
      ]
    },
    {
      "cell_type": "code",
      "source": [
        "model.save(\"bharatnatyam_model_latest.h5\")\n"
      ],
      "metadata": {
        "id": "hWQvwtovWij_",
        "colab": {
          "base_uri": "https://localhost:8080/"
        },
        "outputId": "af090f75-3f7e-46ba-8bf9-4ff90e6fa453"
      },
      "execution_count": null,
      "outputs": [
        {
          "output_type": "stream",
          "name": "stderr",
          "text": [
            "/usr/local/lib/python3.10/dist-packages/keras/src/engine/training.py:3079: UserWarning: You are saving your model as an HDF5 file via `model.save()`. This file format is considered legacy. We recommend using instead the native Keras format, e.g. `model.save('my_model.keras')`.\n",
            "  saving_api.save_model(\n"
          ]
        }
      ]
    },
    {
      "cell_type": "code",
      "source": [
        "from tensorflow.keras.preprocessing import image\n",
        "import numpy as np\n",
        "\n",
        "img_path = '/content/drive/MyDrive/Custom_db2/train/Ardhamandalam Augmented/dr_0_7275.jpg'\n",
        "img = image.load_img(img_path, target_size=(150, 150))\n",
        "img_array = image.img_to_array(img)\n",
        "img_array = np.expand_dims(img_array, axis=0)\n",
        "img_array /= 255.0\n",
        "\n",
        "model2 = tf.keras.models.load_model('/content/drive/MyDrive/bharatnatyam_mode17_10l.h5')\n",
        "predictions = model2.predict(img_array)\n",
        "class_index = np.argmax(predictions)\n",
        "class_label = train_generator.class_indices\n",
        "\n",
        "class_index = np.argmax(predictions)\n",
        "class_label = list(train_generator.class_indices.keys())\n",
        "\n",
        "print(\"Predicted class:\", class_label[class_index])"
      ],
      "metadata": {
        "id": "S-qF1HpEWkdZ",
        "colab": {
          "base_uri": "https://localhost:8080/"
        },
        "outputId": "e0986079-db78-41e6-8423-4df152ab1c4c"
      },
      "execution_count": 10,
      "outputs": [
        {
          "output_type": "stream",
          "name": "stdout",
          "text": [
            "1/1 [==============================] - 0s 104ms/step\n",
            "Predicted class: Samapadam Augmented\n"
          ]
        }
      ]
    }
  ]
}